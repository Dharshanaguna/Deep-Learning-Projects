{
 "cells": [
  {
   "cell_type": "code",
   "execution_count": 1,
   "id": "07462c0c",
   "metadata": {},
   "outputs": [
    {
     "name": "stdout",
     "output_type": "stream",
     "text": [
      "Model: \"model\"\n",
      "__________________________________________________________________________________________________\n",
      " Layer (type)                Output Shape                 Param #   Connected to                  \n",
      "==================================================================================================\n",
      " input_2 (InputLayer)        [(None, 12)]                 0         []                            \n",
      "                                                                                                  \n",
      " input_1 (InputLayer)        [(None, 10)]                 0         []                            \n",
      "                                                                                                  \n",
      " embedding_1 (Embedding)     (None, 12, 256)              2048000   ['input_2[0][0]']             \n",
      "                                                                                                  \n",
      " embedding (Embedding)       (None, 10, 256)              2560000   ['input_1[0][0]']             \n",
      "                                                                                                  \n",
      " lstm_1 (LSTM)               (None, 12, 256)              525312    ['embedding_1[0][0]']         \n",
      "                                                                                                  \n",
      " lstm (LSTM)                 (None, 10, 256)              525312    ['embedding[0][0]']           \n",
      "                                                                                                  \n",
      " attention (Attention)       (None, 12, 256)              0         ['lstm_1[0][0]',              \n",
      "                                                                     'lstm[0][0]']                \n",
      "                                                                                                  \n",
      " tf.concat (TFOpLambda)      (None, 12, 512)              0         ['lstm_1[0][0]',              \n",
      "                                                                     'attention[0][0]']           \n",
      "                                                                                                  \n",
      " dense (Dense)               (None, 12, 8000)             4104000   ['tf.concat[0][0]']           \n",
      "                                                                                                  \n",
      "==================================================================================================\n",
      "Total params: 9762624 (37.24 MB)\n",
      "Trainable params: 9762624 (37.24 MB)\n",
      "Non-trainable params: 0 (0.00 Byte)\n",
      "__________________________________________________________________________________________________\n"
     ]
    }
   ],
   "source": [
    "#exp7\n",
    "import tensorflow as tf\n",
    "from tensorflow.keras.models import Model\n",
    "from tensorflow.keras.layers import Input, LSTM, Dense, Embedding, Attention\n",
    "# Define the input sequence length and target sequence length\n",
    "encoder_seq_length = 10\n",
    "decoder_seq_length = 12\n",
    "input_vocab_size = 10000 # Example vocabulary size\n",
    "output_vocab_size = 8000 # Example vocabulary size\n",
    "# Define the input layers\n",
    "encoder_input = Input(shape=(encoder_seq_length,))\n",
    "decoder_input = Input(shape=(decoder_seq_length,))\n",
    "# Define the embedding layers\n",
    "encoder_embedding = Embedding(input_vocab_size, 256)(encoder_input)\n",
    "decoder_embedding = Embedding(output_vocab_size, 256)(decoder_input)\n",
    "# Define the LSTM layers\n",
    "encoder_lstm = LSTM(256, return_sequences=True)(encoder_embedding)\n",
    "decoder_lstm = LSTM(256, return_sequences=True)(decoder_embedding)\n",
    "# Apply attention\n",
    "attention = Attention()([decoder_lstm, encoder_lstm])\n",
    "# Combine attention and decoder LSTM output\n",
    "decoder_combined_context = tf.concat([decoder_lstm, attention], axis=-1)\n",
    "# Define the dense layer for prediction\n",
    "decoder_dense = Dense(output_vocab_size, activation='softmax')\n",
    "output = decoder_dense(decoder_combined_context)\n",
    "# Define the model\n",
    "model = Model([encoder_input, decoder_input], output)\n",
    "# Compile the model\n",
    "model.compile(optimizer='adam', loss='categorical_crossentropy', metrics=['accuracy'])\n",
    "# Print model summary\n",
    "model.summary()"
   ]
  },
  {
   "cell_type": "code",
   "execution_count": null,
   "id": "78973553",
   "metadata": {},
   "outputs": [],
   "source": []
  }
 ],
 "metadata": {
  "kernelspec": {
   "display_name": "Python 3 (ipykernel)",
   "language": "python",
   "name": "python3"
  },
  "language_info": {
   "codemirror_mode": {
    "name": "ipython",
    "version": 3
   },
   "file_extension": ".py",
   "mimetype": "text/x-python",
   "name": "python",
   "nbconvert_exporter": "python",
   "pygments_lexer": "ipython3",
   "version": "3.10.9"
  }
 },
 "nbformat": 4,
 "nbformat_minor": 5
}
