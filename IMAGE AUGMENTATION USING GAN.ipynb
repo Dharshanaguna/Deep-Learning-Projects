{
 "cells": [
  {
   "cell_type": "code",
   "execution_count": 1,
   "id": "4e524c5f",
   "metadata": {},
   "outputs": [
    {
     "name": "stdout",
     "output_type": "stream",
     "text": [
      "1/1 [==============================] - 1s 641ms/step\n"
     ]
    }
   ],
   "source": [
    "#exp 8\n",
    "import numpy as np\n",
    "import matplotlib.pyplot as plt\n",
    "from tensorflow.keras.datasets import mnist\n",
    "from tensorflow.keras.models import Sequential, Model\n",
    "from tensorflow.keras.layers import Dense, Reshape, Flatten, Input\n",
    "from tensorflow.keras.optimizers import Adam\n",
    "# Load the MNIST dataset\n",
    "(X_train, _), (_, _) = mnist.load_data()\n",
    "X_train = X_train / 127.5 - 1 # Normalize the pixel values to the range [-1, 1]\n",
    "# Define and train a GAN\n",
    "generator = Sequential()\n",
    "generator.add(Dense(128, input_dim=100, activation='relu'))\n",
    "generator.add(Dense(784, activation='tanh'))\n",
    "generator.compile(loss='binary_crossentropy', optimizer=Adam(learning_rate=0.0002))\n",
    "\n",
    "discriminator = Sequential()\n",
    "discriminator.add(Dense(128, input_dim=784, activation='relu'))\n",
    "discriminator.add(Dense(1, activation='sigmoid'))\n",
    "discriminator.compile(loss='binary_crossentropy', optimizer=Adam(learning_rate=0.0002), metrics=['accuracy'])\n",
    "discriminator.trainable = False\n",
    "gan_input = Input(shape=(100,))\n",
    "x = generator(gan_input)\n",
    "gan_output = discriminator(x)\n",
    "gan = Model(gan_input, gan_output)\n",
    "gan.compile(loss='binary_crossentropy', optimizer=Adam(learning_rate=0.0002))\n",
    "# Training the GAN\n",
    "# (You can add more training code here, including data loading, training loops, etc.)\n",
    "# Generate augmented images\n",
    "noise = np.random.normal(0, 1, (10, 100)) # Generate 10 random noise vectors\n",
    "augmented_images = generator.predict(noise)"
   ]
  },
  {
   "cell_type": "code",
   "execution_count": null,
   "id": "f795291a",
   "metadata": {},
   "outputs": [],
   "source": []
  }
 ],
 "metadata": {
  "kernelspec": {
   "display_name": "Python 3 (ipykernel)",
   "language": "python",
   "name": "python3"
  },
  "language_info": {
   "codemirror_mode": {
    "name": "ipython",
    "version": 3
   },
   "file_extension": ".py",
   "mimetype": "text/x-python",
   "name": "python",
   "nbconvert_exporter": "python",
   "pygments_lexer": "ipython3",
   "version": "3.10.9"
  }
 },
 "nbformat": 4,
 "nbformat_minor": 5
}
