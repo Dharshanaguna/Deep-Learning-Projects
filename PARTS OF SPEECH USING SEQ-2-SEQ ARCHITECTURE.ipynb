{
 "cells": [
  {
   "cell_type": "code",
   "execution_count": 1,
   "id": "89d817a3",
   "metadata": {},
   "outputs": [
    {
     "name": "stdout",
     "output_type": "stream",
     "text": [
      "Epoch 1/10\n",
      "1/1 [==============================] - 12s 12s/step - loss: 2.3031 - accuracy: 0.3333 - val_loss: 2.2901 - val_accuracy: 0.0000e+00\n",
      "Epoch 2/10\n",
      "1/1 [==============================] - 0s 170ms/step - loss: 2.2573 - accuracy: 0.3333 - val_loss: 2.2823 - val_accuracy: 0.0000e+00\n",
      "Epoch 3/10\n",
      "1/1 [==============================] - 0s 156ms/step - loss: 2.2117 - accuracy: 0.6667 - val_loss: 2.2739 - val_accuracy: 0.3333\n",
      "Epoch 4/10\n",
      "1/1 [==============================] - 0s 242ms/step - loss: 2.1656 - accuracy: 0.6667 - val_loss: 2.2647 - val_accuracy: 0.6667\n",
      "Epoch 5/10\n",
      "1/1 [==============================] - 0s 108ms/step - loss: 2.1186 - accuracy: 0.6667 - val_loss: 2.2548 - val_accuracy: 0.6667\n",
      "Epoch 6/10\n",
      "1/1 [==============================] - 0s 129ms/step - loss: 2.0700 - accuracy: 1.0000 - val_loss: 2.2438 - val_accuracy: 0.6667\n",
      "Epoch 7/10\n",
      "1/1 [==============================] - 0s 149ms/step - loss: 2.0192 - accuracy: 1.0000 - val_loss: 2.2317 - val_accuracy: 0.6667\n",
      "Epoch 8/10\n",
      "1/1 [==============================] - 0s 125ms/step - loss: 1.9658 - accuracy: 1.0000 - val_loss: 2.2184 - val_accuracy: 0.6667\n",
      "Epoch 9/10\n",
      "1/1 [==============================] - 0s 295ms/step - loss: 1.9092 - accuracy: 1.0000 - val_loss: 2.2037 - val_accuracy: 0.6667\n",
      "Epoch 10/10\n",
      "1/1 [==============================] - 0s 126ms/step - loss: 1.8491 - accuracy: 1.0000 - val_loss: 2.1874 - val_accuracy: 1.0000\n",
      "enter any sentenceI love myself\n",
      "1/1 [==============================] - 1s 1s/step\n",
      "['article', 'article', 'verb']\n"
     ]
    }
   ],
   "source": [
    "#Ex6\n",
    "import numpy as np\n",
    "import tensorflow as tf\n",
    "from tensorflow.keras.models import Sequential\n",
    "from tensorflow.keras.layers import Embedding, SimpleRNN, Dense\n",
    "from tensorflow.keras.preprocessing.text import Tokenizer\n",
    "from tensorflow.keras.preprocessing.sequence import pad_sequences\n",
    "from tensorflow.keras.utils import to_categorical\n",
    "\n",
    "# Sample training data\n",
    "sentences = [\"The cat sleeps\", \"A dog barks\"]\n",
    "pos_tags = [\"Article Noun Verb\", \"Article Noun Verb\"]\n",
    "\n",
    "# Tokenize words and POS tags\n",
    "tokenizer = Tokenizer()\n",
    "tokenizer.fit_on_texts(sentences + pos_tags)\n",
    "\n",
    "# Convert text data to sequences of integers\n",
    "sentences_seq = tokenizer.texts_to_sequences(sentences)\n",
    "pos_tags_seq = tokenizer.texts_to_sequences(pos_tags)\n",
    "\n",
    "# Pad sequences to the same length\n",
    "max_seq_length = max(len(seq) for seq in sentences_seq)\n",
    "sentences_seq = pad_sequences(sentences_seq, maxlen=max_seq_length, padding='post')\n",
    "pos_tags_seq = pad_sequences(pos_tags_seq, maxlen=max_seq_length, padding='post')\n",
    "\n",
    "# Prepare one-hot encoded labels for POS tags\n",
    "num_classes = len(tokenizer.word_index) + 1\n",
    "pos_tags_one_hot = [to_categorical(seq, num_classes=num_classes) for seq in pos_tags_seq]\n",
    "\n",
    "# Define the RNN model\n",
    "model = Sequential()\n",
    "model.add(Embedding(input_dim=len(tokenizer.word_index) + 1, output_dim=50, input_length=max_seq_length))\n",
    "model.add(SimpleRNN(100, return_sequences=True))\n",
    "model.add(Dense(num_classes, activation='softmax'))\n",
    "\n",
    "# Compile the model\n",
    "model.compile(loss='categorical_crossentropy', optimizer='adam', metrics=['accuracy'])\n",
    "\n",
    "# Split the data into training and validation sets\n",
    "split_ratio = 0.8\n",
    "split_index = int(len(sentences_seq) * split_ratio)\n",
    "train_sentences, val_sentences = sentences_seq[:split_index], sentences_seq[split_index:]\n",
    "train_pos_tags, val_pos_tags = np.array(pos_tags_one_hot[:split_index]), np.array(pos_tags_one_hot[split_index:])\n",
    "\n",
    "# Train the model\n",
    "epochs = 10\n",
    "batch_size = 1\n",
    "model.fit(train_sentences, train_pos_tags, epochs=epochs, batch_size=batch_size, validation_data=(val_sentences, val_pos_tags))\n",
    "new=input(\"enter any sentence\")\n",
    "new_sentence = []\n",
    "new_sentence.append(new)\n",
    "new_sentence_seq = tokenizer.texts_to_sequences(new_sentence)\n",
    "new_sentence_seq = pad_sequences(new_sentence_seq, maxlen=max_seq_length, padding='post')\n",
    "predictions = model.predict(new_sentence_seq)\n",
    "decoded_predictions = [tokenizer.index_word[np.argmax(pred)] for pred in predictions[0]]\n",
    "print(decoded_predictions)\n"
   ]
  },
  {
   "cell_type": "code",
   "execution_count": null,
   "id": "693fe6ca",
   "metadata": {},
   "outputs": [],
   "source": []
  }
 ],
 "metadata": {
  "kernelspec": {
   "display_name": "Python 3 (ipykernel)",
   "language": "python",
   "name": "python3"
  },
  "language_info": {
   "codemirror_mode": {
    "name": "ipython",
    "version": 3
   },
   "file_extension": ".py",
   "mimetype": "text/x-python",
   "name": "python",
   "nbconvert_exporter": "python",
   "pygments_lexer": "ipython3",
   "version": "3.10.9"
  }
 },
 "nbformat": 4,
 "nbformat_minor": 5
}
