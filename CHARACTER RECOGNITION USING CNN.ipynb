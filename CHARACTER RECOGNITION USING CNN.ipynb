{
 "cells": [
  {
   "cell_type": "code",
   "execution_count": 1,
   "id": "b92334c5",
   "metadata": {},
   "outputs": [
    {
     "name": "stdout",
     "output_type": "stream",
     "text": [
      "Epoch 1/5\n",
      "937/937 [==============================] - 78s 80ms/step - loss: 0.4559 - accuracy: 0.8547 - val_loss: 0.0623 - val_accuracy: 0.9804\n",
      "Epoch 2/5\n",
      "937/937 [==============================] - 76s 81ms/step - loss: 0.1617 - accuracy: 0.9514 - val_loss: 0.0350 - val_accuracy: 0.9883\n",
      "Epoch 3/5\n",
      "937/937 [==============================] - 79s 84ms/step - loss: 0.1242 - accuracy: 0.9630 - val_loss: 0.0270 - val_accuracy: 0.9917\n",
      "Epoch 4/5\n",
      "937/937 [==============================] - 73s 78ms/step - loss: 0.1035 - accuracy: 0.9698 - val_loss: 0.0232 - val_accuracy: 0.9921\n",
      "Epoch 5/5\n",
      "937/937 [==============================] - 74s 78ms/step - loss: 0.0906 - accuracy: 0.9746 - val_loss: 0.0316 - val_accuracy: 0.9904\n",
      "313/313 [==============================] - 4s 12ms/step - loss: 0.0316 - accuracy: 0.9904\n",
      "Test accuracy: 0.9904000163078308\n"
     ]
    }
   ],
   "source": [
    "#EXP2\n",
    "import tensorflow as tf\n",
    "from tensorflow.keras import layers, models\n",
    "from tensorflow.keras.datasets import mnist\n",
    "from tensorflow.keras.utils import to_categorical\n",
    "from tensorflow.keras.preprocessing.image import ImageDataGenerator\n",
    "(train_images, train_labels), (test_images, test_labels) = mnist.load_data()\n",
    "train_images = train_images.reshape((60000, 28, 28, 1)).astype('float32') / 255\n",
    "test_images = test_images.reshape((10000, 28, 28, 1)).astype('float32') / 255\n",
    "train_labels = to_categorical(train_labels)\n",
    "test_labels = to_categorical(test_labels)\n",
    "model = models.Sequential()\n",
    "model.add(layers.Conv2D(32, (3, 3), activation='relu', input_shape=(28, 28, 1)))\n",
    "model.add(layers.MaxPooling2D((2, 2)))\n",
    "model.add(layers.Conv2D(64, (3, 3), activation='relu'))\n",
    "model.add(layers.MaxPooling2D((2, 2)))\n",
    "model.add(layers.Conv2D(128, (3, 3), activation='relu'))\n",
    "model.add(layers.Flatten())\n",
    "model.add(layers.Dense(128, activation='relu'))\n",
    "model.add(layers.Dropout(0.5))\n",
    "model.add(layers.Dense(10, activation='softmax'))\n",
    "model.compile(optimizer='adam', loss='categorical_crossentropy', metrics=['accuracy'])\n",
    "datagen = ImageDataGenerator(\n",
    "    rotation_range=20,\n",
    "    width_shift_range=0.1,\n",
    "    height_shift_range=0.1,\n",
    "    shear_range=0.2,\n",
    "    zoom_range=0.2,\n",
    "    fill_mode='nearest'\n",
    ")\n",
    "datagen.fit(train_images)\n",
    "history = model.fit(\n",
    "    datagen.flow(train_images, train_labels, batch_size=64),\n",
    "    steps_per_epoch=len(train_images) // 64,\n",
    "    epochs=5,\n",
    "    validation_data=(test_images, test_labels)\n",
    ")\n",
    "test_loss, test_acc = model.evaluate(test_images, test_labels)\n",
    "print(\"Test accuracy:\", test_acc)\n"
   ]
  },
  {
   "cell_type": "code",
   "execution_count": null,
   "id": "dae282e4",
   "metadata": {},
   "outputs": [],
   "source": []
  }
 ],
 "metadata": {
  "kernelspec": {
   "display_name": "Python 3 (ipykernel)",
   "language": "python",
   "name": "python3"
  },
  "language_info": {
   "codemirror_mode": {
    "name": "ipython",
    "version": 3
   },
   "file_extension": ".py",
   "mimetype": "text/x-python",
   "name": "python",
   "nbconvert_exporter": "python",
   "pygments_lexer": "ipython3",
   "version": "3.10.9"
  }
 },
 "nbformat": 4,
 "nbformat_minor": 5
}
